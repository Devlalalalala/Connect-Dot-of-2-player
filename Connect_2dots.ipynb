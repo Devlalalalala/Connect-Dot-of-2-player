{
 "cells": [
  {
   "cell_type": "code",
   "execution_count": null,
   "id": "caa39196-d6d2-4f32-8e61-910eb824c0ba",
   "metadata": {},
   "outputs": [
    {
     "name": "stdin",
     "output_type": "stream",
     "text": [
      "Enter the size of the grid (e.g., 3 for a 3x3 grid):  3\n"
     ]
    },
    {
     "name": "stdout",
     "output_type": "stream",
     "text": [
      "o     o     o\n",
      "                  \n",
      "o     o     o\n",
      "                  \n",
      "o     o     o\n",
      "Player 1's turn\n"
     ]
    },
    {
     "name": "stdin",
     "output_type": "stream",
     "text": [
      "Enter row:  1\n",
      "Enter column:  1\n",
      "Enter direction (h for horizontal, v for vertical):  h\n"
     ]
    },
    {
     "name": "stdout",
     "output_type": "stream",
     "text": [
      "o     o     o\n",
      "                  \n",
      "o     o --- o\n",
      "                  \n",
      "o     o     o\n",
      "Player 2's turn\n"
     ]
    },
    {
     "name": "stdin",
     "output_type": "stream",
     "text": [
      "Enter row:  2\n",
      "Enter column:  2\n",
      "Enter direction (h for horizontal, v for vertical):  v\n"
     ]
    },
    {
     "name": "stdout",
     "output_type": "stream",
     "text": [
      "Invalid move! Try again.\n",
      "o     o     o\n",
      "                  \n",
      "o     o --- o\n",
      "                  \n",
      "o     o     o\n",
      "Player 2's turn\n"
     ]
    },
    {
     "name": "stdin",
     "output_type": "stream",
     "text": [
      "Enter row:  1\n",
      "Enter column:  1\n",
      "Enter direction (h for horizontal, v for vertical):  v\n"
     ]
    },
    {
     "name": "stdout",
     "output_type": "stream",
     "text": [
      "o     o     o\n",
      "                  \n",
      "o     o --- o\n",
      "      |           \n",
      "o     o     o\n",
      "Player 1's turn\n"
     ]
    },
    {
     "name": "stdin",
     "output_type": "stream",
     "text": [
      "Enter row:  1\n",
      "Enter column:  2\n",
      "Enter direction (h for horizontal, v for vertical):  h\n"
     ]
    },
    {
     "name": "stdout",
     "output_type": "stream",
     "text": [
      "Invalid move! Try again.\n",
      "o     o     o\n",
      "                  \n",
      "o     o --- o\n",
      "      |           \n",
      "o     o     o\n",
      "Player 1's turn\n"
     ]
    },
    {
     "name": "stdin",
     "output_type": "stream",
     "text": [
      "Enter row:  1\n",
      "Enter column:  2\n",
      "Enter direction (h for horizontal, v for vertical):  v\n"
     ]
    },
    {
     "name": "stdout",
     "output_type": "stream",
     "text": [
      "o     o     o\n",
      "                  \n",
      "o     o --- o\n",
      "      |     |     \n",
      "o     o     o\n",
      "Player 2's turn\n"
     ]
    },
    {
     "name": "stdin",
     "output_type": "stream",
     "text": [
      "Enter row:  2\n",
      "Enter column:  1\n",
      "Enter direction (h for horizontal, v for vertical):  h\n"
     ]
    },
    {
     "name": "stdout",
     "output_type": "stream",
     "text": [
      "o     o     o\n",
      "                  \n",
      "o     o --- o\n",
      "      |     |     \n",
      "o     o --- o\n",
      "Player 2's turn\n"
     ]
    },
    {
     "name": "stdin",
     "output_type": "stream",
     "text": [
      "Enter row:  2\n",
      "Enter column:  1\n",
      "Enter direction (h for horizontal, v for vertical):  v\n"
     ]
    },
    {
     "name": "stdout",
     "output_type": "stream",
     "text": [
      "Invalid move! Try again.\n",
      "o     o     o\n",
      "                  \n",
      "o     o --- o\n",
      "      |     |     \n",
      "o     o --- o\n",
      "Player 2's turn\n"
     ]
    },
    {
     "name": "stdin",
     "output_type": "stream",
     "text": [
      "Enter row:  3\n",
      "Enter column:  3\n",
      "Enter direction (h for horizontal, v for vertical):  h\n"
     ]
    },
    {
     "name": "stdout",
     "output_type": "stream",
     "text": [
      "Invalid move! Try again.\n",
      "o     o     o\n",
      "                  \n",
      "o     o --- o\n",
      "      |     |     \n",
      "o     o --- o\n",
      "Player 2's turn\n"
     ]
    },
    {
     "name": "stdin",
     "output_type": "stream",
     "text": [
      "Enter row:  3\n",
      "Enter column:  3\n",
      "Enter direction (h for horizontal, v for vertical):  h\n"
     ]
    },
    {
     "name": "stdout",
     "output_type": "stream",
     "text": [
      "Invalid move! Try again.\n",
      "o     o     o\n",
      "                  \n",
      "o     o --- o\n",
      "      |     |     \n",
      "o     o --- o\n",
      "Player 2's turn\n"
     ]
    },
    {
     "name": "stdin",
     "output_type": "stream",
     "text": [
      "Enter row:  3\n",
      "Enter column:  1\n",
      "Enter direction (h for horizontal, v for vertical):  h\n"
     ]
    },
    {
     "name": "stdout",
     "output_type": "stream",
     "text": [
      "Invalid move! Try again.\n",
      "o     o     o\n",
      "                  \n",
      "o     o --- o\n",
      "      |     |     \n",
      "o     o --- o\n",
      "Player 2's turn\n"
     ]
    },
    {
     "name": "stdin",
     "output_type": "stream",
     "text": [
      "Enter row:  3\n",
      "Enter column:  1\n",
      "Enter direction (h for horizontal, v for vertical):  v\n"
     ]
    },
    {
     "name": "stdout",
     "output_type": "stream",
     "text": [
      "Invalid move! Try again.\n",
      "o     o     o\n",
      "                  \n",
      "o     o --- o\n",
      "      |     |     \n",
      "o     o --- o\n",
      "Player 2's turn\n"
     ]
    }
   ],
   "source": [
    "class ConnectTheDots:\n",
    "    def __init__(self, size):\n",
    "        self.size = size\n",
    "        self.board = [[' ' for _ in range(size)] for _ in range(size)]\n",
    "        self.h_lines = [[False for _ in range(size - 1)] for _ in range(size)]  # Horizontal lines\n",
    "        self.v_lines = [[False for _ in range(size)] for _ in range(size - 1)]  # Vertical lines\n",
    "        self.scores = {1: 0, 2: 0}\n",
    "        self.turn = 1\n",
    "\n",
    "    def print_board(self):\n",
    "        for i in range(self.size):\n",
    "            # Print horizontal lines\n",
    "            print('o', end='')\n",
    "            for j in range(self.size - 1):\n",
    "                if self.h_lines[i][j]:\n",
    "                    print(' --- o', end='')\n",
    "                else:\n",
    "                    print('     o', end='')\n",
    "            print()\n",
    "\n",
    "            # Print vertical lines\n",
    "            if i < self.size - 1:\n",
    "                for j in range(self.size):\n",
    "                    if self.v_lines[i][j]:\n",
    "                        print('|     ', end='')\n",
    "                    else:\n",
    "                        print('      ', end='')\n",
    "                print()\n",
    "\n",
    "    def is_valid_move(self, row, col, direction):\n",
    "        if direction == 'h':  # Horizontal line\n",
    "            if 0 <= row < self.size and 0 <= col < self.size - 1:\n",
    "                return not self.h_lines[row][col]\n",
    "        elif direction == 'v':  # Vertical line\n",
    "            if 0 <= row < self.size - 1 and 0 <= col < self.size:\n",
    "                return not self.v_lines[row][col]\n",
    "        return False\n",
    "\n",
    "    def make_move(self, row, col, direction):\n",
    "        if direction == 'h':\n",
    "            self.h_lines[row][col] = True\n",
    "        elif direction == 'v':\n",
    "            self.v_lines[row][col] = True\n",
    "\n",
    "        # Check if a box is completed\n",
    "        boxes_completed = 0\n",
    "        if direction == 'h' and row > 0:\n",
    "            if self.h_lines[row - 1][col] and self.v_lines[row - 1][col] and self.v_lines[row - 1][col + 1]:\n",
    "                boxes_completed += 1\n",
    "        if direction == 'h' and row < self.size - 1:\n",
    "            if self.h_lines[row + 1][col] and self.v_lines[row][col] and self.v_lines[row][col + 1]:\n",
    "                boxes_completed += 1\n",
    "        if direction == 'v' and col > 0:\n",
    "            if self.v_lines[row][col - 1] and self.h_lines[row][col - 1] and self.h_lines[row + 1][col - 1]:\n",
    "                boxes_completed += 1\n",
    "        if direction == 'v' and col < self.size - 1:\n",
    "            if self.v_lines[row][col + 1] and self.h_lines[row][col] and self.h_lines[row + 1][col]:\n",
    "                boxes_completed += 1\n",
    "\n",
    "        self.scores[self.turn] += boxes_completed\n",
    "        return boxes_completed\n",
    "\n",
    "    def play_game(self):\n",
    "        while True:\n",
    "            self.print_board()\n",
    "            print(f\"Player {self.turn}'s turn\")\n",
    "\n",
    "            # Get move input\n",
    "            row = int(input(\"Enter row: \"))\n",
    "            col = int(input(\"Enter column: \"))\n",
    "            direction = input(\"Enter direction (h for horizontal, v for vertical): \")\n",
    "\n",
    "            if self.is_valid_move(row, col, direction):\n",
    "                boxes_completed = self.make_move(row, col, direction)\n",
    "                if boxes_completed == 0:\n",
    "                    self.turn = 3 - self.turn  # Switch turns\n",
    "            else:\n",
    "                print(\"Invalid move! Try again.\")\n",
    "\n",
    "            if sum(self.scores.values()) == (self.size - 1) * (self.size - 1):\n",
    "                break\n",
    "\n",
    "        self.print_board()\n",
    "        print(f\"Game over! Scores: Player 1: {self.scores[1]}, Player 2: {self.scores[2]}\")\n",
    "        if self.scores[1] > self.scores[2]:\n",
    "            print(\"Player 1 wins!\")\n",
    "        elif self.scores[2] > self.scores[1]:\n",
    "            print(\"Player 2 wins!\")\n",
    "        else:\n",
    "            print(\"It's a draw!\")\n",
    "\n",
    "if __name__ == '__main__':\n",
    "    size = int(input(\"Enter the size of the grid (e.g., 3 for a 3x3 grid): \"))\n",
    "    game = ConnectTheDots(size)\n",
    "    game.play_game()\n"
   ]
  }
 ],
 "metadata": {
  "kernelspec": {
   "display_name": "Python 3 (ipykernel)",
   "language": "python",
   "name": "python3"
  },
  "language_info": {
   "codemirror_mode": {
    "name": "ipython",
    "version": 3
   },
   "file_extension": ".py",
   "mimetype": "text/x-python",
   "name": "python",
   "nbconvert_exporter": "python",
   "pygments_lexer": "ipython3",
   "version": "3.12.4"
  }
 },
 "nbformat": 4,
 "nbformat_minor": 5
}
